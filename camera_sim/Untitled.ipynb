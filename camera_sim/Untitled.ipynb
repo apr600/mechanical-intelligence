{
 "cells": [
  {
   "cell_type": "code",
   "execution_count": 1,
   "id": "ee211899",
   "metadata": {},
   "outputs": [],
   "source": [
    "import numpy as np\n",
    "import matplotlib.pyplot as plt\n",
    "import pickle"
   ]
  },
  {
   "cell_type": "code",
   "execution_count": 2,
   "id": "b75a2e54",
   "metadata": {},
   "outputs": [
    {
     "name": "stdout",
     "output_type": "stream",
     "text": [
      "dict_keys(['path', 'buffer', 'env_path', 'obj_loc', 'obj2_loc', 'tray_lim', 'klerg_lim'])\n",
      "(-0.08, -0.1, -0.4) (0.1, -0.1, -0.6)\n"
     ]
    }
   ],
   "source": [
    "dir_path = \"results/rgb/rgb_test_data2/\"\n",
    "# Load Pickled Data\n",
    "file_path = dir_path + \"data_eval_dict.pickle\"\n",
    "with open(file_path, 'rb') as f: \n",
    "    data_dict = pickle.load(f, encoding=\"bytes\")\n",
    "    print(data_dict.keys())\n",
    "testobj1 = data_dict['obj_loc']\n",
    "testobj2 = data_dict['obj2_loc']\n",
    "testtraj = data_dict['path']\n",
    "testbuffer = data_dict['buffer']\n",
    "test_env_traj = data_dict['env_path']\n",
    "test_env_lim = data_dict['tray_lim']\n",
    "test_klerg_lim = data_dict['klerg_lim']\n",
    "print(testobj1, testobj2)"
   ]
  },
  {
   "cell_type": "code",
   "execution_count": 13,
   "id": "3a4e5aff",
   "metadata": {},
   "outputs": [
    {
     "name": "stdout",
     "output_type": "stream",
     "text": [
      "[array([0., 0.]), array([-0.025,  0.   ]), array([-0.025,  0.025]), array([0.   , 0.025]), array([0.025, 0.025]), array([0.025, 0.   ]), array([ 0.025, -0.025]), array([ 0.   , -0.025]), array([-0.025, -0.025]), array([0., 0.]), array([-0.025,  0.   ]), array([-0.025,  0.025]), array([0.   , 0.025]), array([0.025, 0.025]), array([0.025, 0.   ]), array([ 0.025, -0.025]), array([ 0.   , -0.025]), array([-0.025, -0.025])]\n"
     ]
    }
   ],
   "source": [
    "print((testtraj))"
   ]
  },
  {
   "cell_type": "code",
   "execution_count": 10,
   "id": "20194f92",
   "metadata": {},
   "outputs": [
    {
     "name": "stdout",
     "output_type": "stream",
     "text": [
      "[-0.525, -0.4999999999999998]\n"
     ]
    }
   ],
   "source": [
    "print(testbuffer[1][0])"
   ]
  },
  {
   "cell_type": "code",
   "execution_count": null,
   "id": "6b35a6b6",
   "metadata": {},
   "outputs": [],
   "source": []
  }
 ],
 "metadata": {
  "kernelspec": {
   "display_name": "Python 3",
   "language": "python",
   "name": "python3"
  },
  "language_info": {
   "codemirror_mode": {
    "name": "ipython",
    "version": 3
   },
   "file_extension": ".py",
   "mimetype": "text/x-python",
   "name": "python",
   "nbconvert_exporter": "python",
   "pygments_lexer": "ipython3",
   "version": "3.6.9"
  }
 },
 "nbformat": 4,
 "nbformat_minor": 5
}
