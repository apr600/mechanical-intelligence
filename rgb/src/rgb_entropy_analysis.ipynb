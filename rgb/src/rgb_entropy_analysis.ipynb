{
 "cells": [
  {
   "cell_type": "code",
   "execution_count": 3,
   "id": "0aaea0ce",
   "metadata": {},
   "outputs": [
    {
     "name": "stdout",
     "output_type": "stream",
     "text": [
      "/home/ahalya/Documents/projects/mechanical-intelligence/data/rgb/data/\n"
     ]
    }
   ],
   "source": [
    "import argparse\n",
    "import torch\n",
    "import torch.utils.data\n",
    "from torch import nn, optim\n",
    "from torch.nn import functional as F\n",
    "from torchvision import datasets, transforms\n",
    "from torchvision.utils import save_image\n",
    "import matplotlib.pyplot as plt\n",
    "import numpy as np\n",
    "from torch.distributions import Normal\n",
    "import os\n",
    "import random\n",
    "\n",
    "import matplotlib.pyplot as plt\n",
    "from IPython.display import clear_output\n",
    "import pickle\n",
    "import celluloid\n",
    "from celluloid import Camera\n",
    "\n",
    "import seaborn as sns\n",
    "\n",
    "\n",
    "from franka.franka_utils import *\n",
    "\n",
    "save = False\n",
    "\n",
    "path = os.getcwd()\n",
    "data_dir = \"/home/ahalya/Documents/projects/mechanical-intelligence/data/rgb/data/\"\n",
    "\n",
    "rgb_dir = os.path.dirname(path) \n",
    "data_dir = os.path.dirname(rgb_dir) + \"/data/rgb/data/\"\n",
    "\n",
    "print(data_dir)"
   ]
  },
  {
   "cell_type": "code",
   "execution_count": 4,
   "id": "befa32fb",
   "metadata": {},
   "outputs": [
    {
     "name": "stdout",
     "output_type": "stream",
     "text": [
      "dict_keys(['path', 'actions', 'buffer', 'env_path', 'obj_loc', 'obj2_loc', 'losses', 'tray_lim', 'klerg_lim'])\n",
      "(1000, 4)\n",
      "1000 (2,) [-0.7815724   0.74329734  0.2        -0.2       ]\n"
     ]
    }
   ],
   "source": [
    "dir_path1 = data_dir + \"ergodic/\"\n",
    "# Load Pickled Data\n",
    "file_path1 = dir_path1 + \"data_eval_dict.pickle\"\n",
    "with open(file_path1, 'rb') as f: \n",
    "    data_dict1 = pickle.load(f, encoding=\"bytes\")\n",
    "    print(data_dict1.keys())\n",
    "obj1 = data_dict1['obj_loc']\n",
    "obj2 = data_dict1['obj2_loc']\n",
    "traj1 = data_dict1['path']\n",
    "loss1 = data_dict1['losses']\n",
    "buffer1 = data_dict1['buffer']\n",
    "action1 = data_dict1['actions']\n",
    "env_traj1 = data_dict1['env_path']\n",
    "env_lim = data_dict1['tray_lim']\n",
    "klerg_lim = data_dict1['klerg_lim']\n",
    "\n",
    "print(traj1.shape)\n",
    "print(len(buffer1), np.array(buffer1[0][0]).shape, traj1[0])"
   ]
  },
  {
   "cell_type": "code",
   "execution_count": 5,
   "id": "930aef9d",
   "metadata": {},
   "outputs": [
    {
     "name": "stderr",
     "output_type": "stream",
     "text": [
      "/home/ahalya/python-envs/sensory-learning/lib/python3.8/site-packages/torch/serialization.py:786: SourceChangeWarning: source code of class 'vae.vae.VAE' has changed. you can retrieve the original source code by accessing the object's source attribute or set `torch.nn.Module.dump_patches = True` and use the patch tool to revert the changes.\n",
      "  warnings.warn(msg, SourceChangeWarning)\n",
      "/home/ahalya/python-envs/sensory-learning/lib/python3.8/site-packages/torch/serialization.py:786: SourceChangeWarning: source code of class 'torch.nn.modules.container.Sequential' has changed. you can retrieve the original source code by accessing the object's source attribute or set `torch.nn.Module.dump_patches = True` and use the patch tool to revert the changes.\n",
      "  warnings.warn(msg, SourceChangeWarning)\n",
      "/home/ahalya/python-envs/sensory-learning/lib/python3.8/site-packages/torch/serialization.py:786: SourceChangeWarning: source code of class 'torch.nn.modules.conv.Conv2d' has changed. you can retrieve the original source code by accessing the object's source attribute or set `torch.nn.Module.dump_patches = True` and use the patch tool to revert the changes.\n",
      "  warnings.warn(msg, SourceChangeWarning)\n",
      "/home/ahalya/python-envs/sensory-learning/lib/python3.8/site-packages/torch/serialization.py:786: SourceChangeWarning: source code of class 'torch.nn.modules.activation.ReLU' has changed. you can retrieve the original source code by accessing the object's source attribute or set `torch.nn.Module.dump_patches = True` and use the patch tool to revert the changes.\n",
      "  warnings.warn(msg, SourceChangeWarning)\n",
      "/home/ahalya/python-envs/sensory-learning/lib/python3.8/site-packages/torch/serialization.py:786: SourceChangeWarning: source code of class 'torch.nn.modules.linear.Linear' has changed. you can retrieve the original source code by accessing the object's source attribute or set `torch.nn.Module.dump_patches = True` and use the patch tool to revert the changes.\n",
      "  warnings.warn(msg, SourceChangeWarning)\n",
      "/home/ahalya/python-envs/sensory-learning/lib/python3.8/site-packages/torch/serialization.py:786: SourceChangeWarning: source code of class 'torch.nn.modules.conv.ConvTranspose2d' has changed. you can retrieve the original source code by accessing the object's source attribute or set `torch.nn.Module.dump_patches = True` and use the patch tool to revert the changes.\n",
      "  warnings.warn(msg, SourceChangeWarning)\n",
      "/home/ahalya/python-envs/sensory-learning/lib/python3.8/site-packages/torch/serialization.py:786: SourceChangeWarning: source code of class 'torch.nn.modules.activation.Softmax' has changed. you can retrieve the original source code by accessing the object's source attribute or set `torch.nn.Module.dump_patches = True` and use the patch tool to revert the changes.\n",
      "  warnings.warn(msg, SourceChangeWarning)\n"
     ]
    },
    {
     "data": {
      "text/plain": [
       "VAE(\n",
       "  (encoder): Sequential(\n",
       "    (0): Conv2d(3, 5, kernel_size=(5, 5), stride=(2, 2))\n",
       "    (1): ReLU()\n",
       "    (2): Conv2d(5, 5, kernel_size=(5, 5), stride=(1, 1))\n",
       "    (3): Flatten()\n",
       "  )\n",
       "  (encode): Sequential(\n",
       "    (0): Linear(in_features=5122, out_features=128, bias=True)\n",
       "    (1): ReLU()\n",
       "    (2): Linear(in_features=128, out_features=128, bias=True)\n",
       "    (3): ReLU()\n",
       "    (4): Linear(in_features=128, out_features=32, bias=True)\n",
       "  )\n",
       "  (img_decoder): Sequential(\n",
       "    (0): UnFlatten()\n",
       "    (1): ConvTranspose2d(5, 5, kernel_size=(5, 5), stride=(1, 1))\n",
       "    (2): ReLU()\n",
       "    (3): ConvTranspose2d(5, 3, kernel_size=(5, 5), stride=(2, 2))\n",
       "  )\n",
       "  (imgvar_decoder): Sequential(\n",
       "    (0): Linear(in_features=18, out_features=128, bias=True)\n",
       "    (1): ReLU()\n",
       "    (2): Linear(in_features=128, out_features=128, bias=True)\n",
       "    (3): ReLU()\n",
       "    (4): Linear(in_features=128, out_features=1, bias=True)\n",
       "  )\n",
       "  (img_decode): Sequential(\n",
       "    (0): Linear(in_features=18, out_features=128, bias=True)\n",
       "    (1): ReLU()\n",
       "    (2): Linear(in_features=128, out_features=128, bias=True)\n",
       "    (3): Softmax(dim=1)\n",
       "    (4): Linear(in_features=128, out_features=5120, bias=True)\n",
       "  )\n",
       ")"
      ]
     },
     "execution_count": 5,
     "metadata": {},
     "output_type": "execute_result"
    }
   ],
   "source": [
    "\n",
    "# Load Pytorch Models\n",
    "# model1 = torch.load(\"model_int_check.pth\")\n",
    "device = torch.device('cpu')\n",
    "model1 = torch.load(dir_path1 + \"model_final_postlearning.pth\", map_location=device)\n",
    "model1.eval()\n"
   ]
  },
  {
   "cell_type": "code",
   "execution_count": 6,
   "id": "373a6277",
   "metadata": {},
   "outputs": [
    {
     "name": "stdout",
     "output_type": "stream",
     "text": [
      "Done Plotting\n"
     ]
    },
    {
     "data": {
      "image/png": "[encoded data removed]",
      "text/plain": [
       "<Figure size 432x288 with 1 Axes>"
      ]
     },
     "metadata": {},
     "output_type": "display_data"
    }
   ],
   "source": [
    "traj_ind = 0\n",
    "learning_ind = 0\n",
    "img_num = 0\n",
    "batch_size = 10\n",
    "z_dim = 16\n",
    "# fig, ax = plt.subplots()\n",
    "fig = plt.figure()\n",
    "fig.patch.set_facecolor('white')\n",
    "\n",
    "camera = Camera(fig)\n",
    "\n",
    "for traj_ind in range(len(traj1)):\n",
    "    traj_ind += 1\n",
    "    if batch_size < traj_ind < len(traj1):\n",
    "        learning_ind += 10\n",
    "        if learning_ind % 50 == 0: \n",
    "            with torch.no_grad():\n",
    "                PATH =  dir_path1 + \"model_checkpoint_iter\"+str(learning_ind)+\".pth\"\n",
    "                model1.load_state_dict(torch.load(PATH, map_location=device)['state_dict'])\n",
    "                model1.eval()\n",
    "                xd = np.expand_dims(np.array(buffer1[traj_ind][0]), axis=0)\n",
    "                xd = torch.FloatTensor(xd)\n",
    "                yd = np.expand_dims(np.array(buffer1[traj_ind][1]), axis=0)\n",
    "                yd = torch.FloatTensor(yd)\n",
    "#                 print(xd.shape,yd.shape)\n",
    "                \n",
    "                _, _ , z_mu, z_logvar, _ = model1(xd,yd)\n",
    "                z_samples = model1.reparameterize(z_mu, z_logvar)\n",
    "\n",
    "                x, y = np.meshgrid(np.linspace(-1.,1.,21), \n",
    "                                       np.linspace(-1.,1.,21))\n",
    "                samples = np.c_[x.ravel(), y.ravel()]\n",
    "                logexp_data = [None]*len(samples)\n",
    "                for i in range(len(samples)):\n",
    "                    xr = np.expand_dims(samples[i], 0)\n",
    "                    xr = torch.FloatTensor(xr)\n",
    "                    z_samples = z_samples.repeat(xr.shape[0], 1)\n",
    "                    y_logvar = model1.imgvar_decoder(torch.cat([z_samples, xr], dim=1))\n",
    "                    logexp_data[i] = y_logvar.exp().detach().numpy().squeeze()       \n",
    "                data = np.reshape(logexp_data, (21,21))\n",
    "                data_norm = np.reshape((logexp_data/np.max(logexp_data)), (21,21))\n",
    "#                 clear_output()\n",
    "                plt.cla()\n",
    "                fig.patch.set_facecolor('white')\n",
    "                plt.contourf(x, y, data)\n",
    "#                 plt.plot(traj1[:traj_ind, 0],traj1[:traj_ind, 1], 'k')\n",
    "                plt.plot(traj1[traj_ind,0], traj1[traj_ind,1], 'm*')\n",
    "                plt.title(\"Entropy Distribution, \\n Exploration Step: {}, Learning Iteration: {}\".format(traj_ind, learning_ind), pad=10)\n",
    "#                 plt.colorbar()\n",
    "                plt.axis('square')\n",
    "#                 plt.savefig('results/rgb/klerg_entropy_evol/' + str(\"{:03d}\".format(img_num)) +'_rgb_entropy_evol'+'.png')\n",
    "#                 plt.savefig('results/rgb/klerg_entropy_evol/' + str(\"{:03d}\".format(img_num)) +'_rgb_entropy_evol_withtraj'+'.png')\n",
    "                if save: plt.savefig('results/rgb/klerg_entropy_evol/' + str(\"{:03d}\".format(img_num)) +'_rgb_entropy_evol_withloc'+'.png')\n",
    "\n",
    "    #                 plt.show()\n",
    "                img_num += 1\n",
    "\n",
    "print(\"Done Plotting\")\n",
    "        \n",
    "        \n"
   ]
  },
  {
   "cell_type": "code",
   "execution_count": 20,
   "id": "00e89784",
   "metadata": {},
   "outputs": [
    {
     "data": {
      "text/plain": [
       "(75, 75, 3)"
      ]
     },
     "execution_count": 20,
     "metadata": {},
     "output_type": "execute_result"
    }
   ],
   "source": []
  },
  {
   "cell_type": "code",
   "execution_count": null,
   "id": "878e9917",
   "metadata": {},
   "outputs": [],
   "source": []
  }
 ],
 "metadata": {
  "kernelspec": {
   "display_name": "sensory-learning",
   "language": "python",
   "name": "sensory-learning"
  },
  "language_info": {
   "codemirror_mode": {
    "name": "ipython",
    "version": 3
   },
   "file_extension": ".py",
   "mimetype": "text/x-python",
   "name": "python",
   "nbconvert_exporter": "python",
   "pygments_lexer": "ipython3",
   "version": "3.8.10"
  }
 },
 "nbformat": 4,
 "nbformat_minor": 5
}
